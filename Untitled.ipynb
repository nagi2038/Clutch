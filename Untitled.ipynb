{
 "cells": [
  {
   "cell_type": "code",
   "execution_count": 1,
   "id": "c963e61a",
   "metadata": {
    "scrolled": true
   },
   "outputs": [
    {
     "name": "stdout",
     "output_type": "stream",
     "text": [
      "Requirement already satisfied: cfscrape in c:\\users\\arekuti\\appdata\\local\\programs\\python\\python310\\lib\\site-packages (2.1.1)\n",
      "Requirement already satisfied: requests>=2.6.1 in c:\\users\\arekuti\\appdata\\local\\programs\\python\\python310\\lib\\site-packages (from cfscrape) (2.28.1)\n",
      "Requirement already satisfied: certifi>=2017.4.17 in c:\\users\\arekuti\\appdata\\local\\programs\\python\\python310\\lib\\site-packages (from requests>=2.6.1->cfscrape) (2022.6.15)\n",
      "Requirement already satisfied: charset-normalizer<3,>=2 in c:\\users\\arekuti\\appdata\\local\\programs\\python\\python310\\lib\\site-packages (from requests>=2.6.1->cfscrape) (2.1.1)\n",
      "Requirement already satisfied: urllib3<1.27,>=1.21.1 in c:\\users\\arekuti\\appdata\\local\\programs\\python\\python310\\lib\\site-packages (from requests>=2.6.1->cfscrape) (1.26.12)\n",
      "Requirement already satisfied: idna<4,>=2.5 in c:\\users\\arekuti\\appdata\\local\\programs\\python\\python310\\lib\\site-packages (from requests>=2.6.1->cfscrape) (3.3)\n"
     ]
    },
    {
     "name": "stderr",
     "output_type": "stream",
     "text": [
      "\n",
      "[notice] A new release of pip available: 22.2.2 -> 22.3\n",
      "[notice] To update, run: python.exe -m pip install --upgrade pip\n"
     ]
    }
   ],
   "source": [
    "!pip install -U cfscrape"
   ]
  },
  {
   "cell_type": "code",
   "execution_count": 25,
   "id": "840cff43",
   "metadata": {},
   "outputs": [],
   "source": [
    "url = \"https://clutch.co/\""
   ]
  },
  {
   "cell_type": "code",
   "execution_count": 18,
   "id": "2b727097",
   "metadata": {
    "collapsed": true
   },
   "outputs": [
    {
     "name": "stdout",
     "output_type": "stream",
     "text": [
      "(b'<!DOCTYPE html>\\n<html lang=\"en-US\">\\n<head>\\n    <title>Just a moment...</'\n",
      " b'title>\\n    <meta http-equiv=\"Content-Type\" content=\"text/html; charset=U'\n",
      " b'TF-8\" />\\n    <meta http-equiv=\"X-UA-Compatible\" content=\"IE=Edge\" />\\n   '\n",
      " b' <meta name=\"robots\" content=\"noindex,nofollow\" />\\n    <meta name=\"viewp'\n",
      " b'ort\" content=\"width=device-width,initial-scale=1\" />\\n    <link href=\"/cd'\n",
      " b'n-cgi/styles/challenges.css\" rel=\"stylesheet\" />\\n    \\n\\n</head>\\n<body cla'\n",
      " b'ss=\"no-js\">\\n    <div class=\"main-wrapper\" role=\"main\">\\n    <div class=\"m'\n",
      " b'ain-content\">\\n        <h1 class=\"zone-name-title h1\">\\n            <img c'\n",
      " b'lass=\"heading-favicon\" src=\"/favicon.ico\"\\n                 onerror=\"this'\n",
      " b'.onerror=null;this.parentNode.removeChild(this)\" />\\n            clutch.c'\n",
      " b'o\\n        </h1>\\n        <h2 class=\"h2\" id=\"challenge-running\">\\n         '\n",
      " b'   Checking if the site connection is secure\\n        </h2>\\n        <nosc'\n",
      " b'ript>\\n            <div id=\"challenge-error-title\">\\n                <div '\n",
      " b'class=\"h2\">\\n                    <span class=\"icon-wrapper\">\\n            '\n",
      " b'            <div class=\"heading-icon warning-icon\"></div>\\n              '\n",
      " b'      </span>\\n                    <span id=\"challenge-error-text\">\\n     '\n",
      " b'                   Enable JavaScript and cookies to continue\\n           '\n",
      " b'         </span>\\n                </div>\\n            </div>\\n        </nos'\n",
      " b'cript>\\n        <div id=\"trk_jschal_js\" style=\"display:none;background-im'\n",
      " b\"age:url('/cdn-cgi/images/trace/managed/nojs/transparent.gif?ray=75c307228b19\"\n",
      " b'84ad\\')\"></div>\\n        <div id=\"challenge-body-text\" class=\"core-msg spa'\n",
      " b'cer\">\\n            clutch.co needs to review the security of your connect'\n",
      " b'ion before proceeding.\\n        </div>\\n        <form id=\"challenge-form\" '\n",
      " b'action=\"/?__cf_chl_f_tk=qIzf6yzLlJyzVdjbHEfM9zmeveuITOIMCgwkmGsXti8-16661144'\n",
      " b'98-0-gaNycGzNB6U\" method=\"POST\" enctype=\"application/x-www-form-urlencoded\">'\n",
      " b'\\n            <input type=\"hidden\" name=\"md\" value=\"ZcLiDHOZfpW39VfMcJHhN'\n",
      " b'U2DpqpWZMOhO1ZMIPHuOgo-1666114498-0-AdnuaV8ROeYeeKToLVY0gFQ8NyKApd7Ykc4x-maE'\n",
      " b'UQYaxF7eHCud4BuiWVhm3ODrq1eSjR-ayXtljcArLtde3GNSHtgDRFKRED31HbVh8FFZJMGElkWI'\n",
      " b'KsXs8UoU7gdAAYxSNbJ26-GSRfcOVVp0o6xoZJN8QXu8ZWKu4Z6lx_OAFnNslcBwb8ZNmtpK8agi'\n",
      " b'50QbDnTc8lgFkdCqYgFupgg6QknX7CuYrtvMdb1Aoitl0rvM7EC2jA3plSWRfayVc5-d0aKxxgJw'\n",
      " b'2vZStbPVLIyZKEBVQP5fOox8pUFuxkeClCqm57MUsdGrBv7oYABjt19IzsDN7BO0AW6Ks3U_QxNp'\n",
      " b'g4GA9j33amKyrHSr8CAebAnSgRMQQ_lcgiSEnBD7cTd13aM4YJg6HH1L41vled_KshFT0D-_NtGu'\n",
      " b'hbDY3bB2rYLWDIZXvPskJJiN7-2wY70ZcvcUyhtbniOxdvs-3qDjAEn85hezQnhzeZilgLfTQ2mb'\n",
      " b'YiAaJU3Lu9rpmjp7Mwg3Mz2R1unXJ-xeEYOXmEVmnbHnk0sADmaGMNTufkmsm0sYSddGVOSr7UmV'\n",
      " b'0HOnOCPDsO12RCeKBdM1UR7TBmkady-Fm5AA112qVLyRQJXVn3BSofxYGdgizteNh6taKg\" '\n",
      " b'/>\\n            <input type=\"hidden\" name=\"r\" value=\"iAyHlkdfrMccZfUlm14g'\n",
      " b'ULyDEAVieAvX_fLEBNjw4uI-1666114498-0-AWhw1ZO+esd0kH18xvyIDBjGfQNZ7PottYLlG1f'\n",
      " b'RZlJO3FeraPSqNOQ+7D9mVxeRccFI04NAZuOXG15M00vR+W0fZaSbBqNM1IiMYpVfnjqBodd4JLe'\n",
      " b'qEhNX8KXp2wL+clTDebPpIRFTlJ62RnAnnkxdwlc+VNuPoSqgqEvTuq/9vxlljVFiyuvEA2C1FcV'\n",
      " b'XVuCUWz//HhRDH+flQOoMGiaIHELcL37am48AVMWc/SIr1CDyQ/JE6YaaFqQzpIEeMJ1pjK/MdPJ'\n",
      " b'4C4qBsxBAn8+K+O7ZBAxOYSxDTkVwUpIYC+r7EdXIBNc0dZfEaki8tJfyjGAS6x+L0mbVuPpyw/o'\n",
      " b'bKS0bgLLUBJSkhpgvtoxZanX+Df5mDDZ6n9lioRSHdlFoiUQAVFspgBe9GTJW22qiqvYO1JKrd8Z'\n",
      " b'aoUXFH7E9NwiAwDm4DdQafFisMtwSyxj5OJWEoFY1P6QK5ChLrHycnAhz13GdgJ6HuKLRzdsBVyl'\n",
      " b'gImAWSS1mInqlpSjpVoJvvNyEGDKmGiFrVh6noIL9lLhPWeZdjcTtX87+Y8Fck+qQGr0S8Hn+SJE'\n",
      " b'zB2swf4mqbPCuUUB/G2T7nuz1iKhEUQL1oSTRaalZqS7LPYLWWN7xDBeGAktgCu/RtBBDw24O9EO'\n",
      " b'XuoD6QP+CnuuN8ZP3dyYsng32Dzjc96RCjQNOxrOcHBIsXXkJJHL6ZM/7Neh8sw5NPpvDR4udP44'\n",
      " b'2DF0mgiKTjUnuhY60Mt4eAfReQxgARCLJsVy8Cy2zIkacPaPOEJx2muqWk5rCPYtlkKSpamG07G/'\n",
      " b'fLYddlqP4bOgLmOF8ih3yEamxBKI3piO4mMBAzkSTi4G9gLceYk/weXG1uIi4ukAnMjcAlfhZfmd'\n",
      " b'efdds9So3JkN29KUwK5gs9spdYXwh+cde8m5KL9R8/d1Y5nHpj4rQCDboSIFnjbxXRIfOZpAQCI1'\n",
      " b'ZJZmL0r7tTTSwdnhtpGKU04PXpOqQmme8A1HlZQgXJz02k4wShUSWItvn2fxobqpvuGwLaY1729w'\n",
      " b'c+6bVAMSZcHvj7s+np4Y2owAcFqdDSz/jy7uylY5jC2Oy7ncRnuK6feB/MnN2703sPtZxsiY2c0c'\n",
      " b'XG6KHBk1B6CHODIuj1FjC3g4UXBo9spOdqQpA7wiz6PFElKVtL/AnEHZCmiQS/a55dfHJJRfekpw'\n",
      " b'j9xQk1EPj+dk0iyEJvhHteorljIUBzBMNZtc2h8cCXQScg2dIoUXGN/5CtWCCuk/ATKi4TEEej7r'\n",
      " b't4tUhrRd/iVOgqd4DcXQOL/Styv4qT/NJIE8rB38AniqYWCpqsAg9mVWUrCE3QBg6b0wyIx8k7b3'\n",
      " b'YLwxsx2XUlH3M8FwCakiVhX/+eYjHJ+MwDhvnZhKHQixguDWT9tM8oNZtils1+djA6jswxgKiVMH'\n",
      " b'gw4SIjGTkFYB7sfaRZP5sKPkjVsaXYmiscZGLnZAngmgA3xC0kLbSkQpxHnSHKOISwGrWkrEvKaY'\n",
      " b'2/BMmf8RvY495cDH0WzD3ENLOICRE3tHlg7DdRVahSav04oSDvvngF9i8tp7Yh8zrc3cFvlu1aML'\n",
      " b'OOaOLhlvG/6R63kxelge82b+aqcmaweh9mYInUoIXeV7VK2gW4G+24xTo6/4Fojt8EPIJG8LX7kG'\n",
      " b'pmANE28ZI/TlTpwPZ1cht41hTWEXXMIxzt5E/REQzZtllTck46p03OdF1XC4nfSYdx+0IX8a5+XH'\n",
      " b'Tzzlu3+Zp+DRkc3HSj8QTasYkbYzNU0r2ERwL5p4Da8w1TVYFGlg6X89f9KA8Qm6b3U92Vyl2VDJ'\n",
      " b'kA2niC5gFpdBFuY8nc+QQdDvUjU7A9DXmv29Yxcf3XnZH1HGSTK8H9cEXY3qdNJZA7vQPbIVQ6xc'\n",
      " b'WX4po31ZtDG8CDinp5rCqv0QfBKP34NmUgRyD\"/>\\n        </form>\\n    </div>\\n</di'\n",
      " b'v>\\n<script>\\n    (function(){\\n        window._cf_chl_opt={\\n            cv'\n",
      " b\"Id: '2',\\n            cType: 'managed',\\n            cNounce: '93837',\\n   \"\n",
      " b\"         cRay: '75c307228b1984ad',\\n            cHash: '538003cf15b104f',\"\n",
      " b'\\n            cUPMDTk: \"\\\\/?__cf_chl_tk=qIzf6yzLlJyzVdjbHEfM9zmeveuITOIMCg'\n",
      " b'wkmGsXti8-1666114498-0-gaNycGzNB6U\",\\n            cFPWv: \\'b\\',\\n           '\n",
      " b\" cTTimeMs: '1000',\\n            cTplV: 4,\\n            cTplB: 'cf',\\n      \"\n",
      " b\"      cRq: {\\n                ru: 'aHR0cHM6Ly9jbHV0Y2guY28v',\\n           \"\n",
      " b\"     ra: 'TW96aWxsYS81LjAgKFdpbmRvd3MgTlQgMTAuMDsgV2luNjQ7IHg2NCkgQXBwbGVXZW\"\n",
      " b'JLaXQvNTM3LjM2IChLSFRNTCwgbGlrZSBHZWNrbykgQ2hyb21lLzYwLjAuMzExMi43OCBTYWZhcm'\n",
      " b\"kvNTM3LjM2',\\n                rm: 'R0VU',\\n                d: '3VeswzSGxQK\"\n",
      " b'5v4kHyDxM+q04AOOfwZC1+wK4HTVNEfgUNeZpObrfjP86TF5kkFNUZTJFMSCclnBL/KJElqickb3'\n",
      " b'RHBJnxU8brssP9xa4yHu1fT9m1YDTV3tSPnw3USp4LVVhqC+5GfIYnIdlgWgU5jEroalGaQ8Y6Jj'\n",
      " b'nR+EGV/WPb1/kQ1+MG7yZZdIvlP/tt+/tBtxrTsyG6++fj7RjC/r8MAJimA4Tyep6wIBtaJ+/e5s'\n",
      " b'CgGWJW7J5h9kF9+7i/Yyh8MPixgBwpGdjAm8fHXA6ExlSpuJzWdmiwNI+MUVJy/nMjNI5lIRI5Pn'\n",
      " b'RrsHWr7cuD1wiJ/VMbQ7G4RdhDoGH1DyiT+TSGFu7AacMW+G00PjLrwoUm19ME6jZBJUjjTrNdnd'\n",
      " b'ta+yfBdqfmIR0qMWqu72YJ5PbaKasEumI2zNDI33iyMzKU4fMnp8k7oQOOnV8s9trAbQsc7o+aN9'\n",
      " b'tUQbX9nJurLJfieaxs96/GG6R3RwbqliM/tf6UdICFHBbj4y+XV+8Kzee9g13XqpW2v1scTIF4q0'\n",
      " b'6/mt3kd4uFFCV0efXAgIhXFTsKcUT/iiCb6B+QHRltPDbHZGpKvR6gSCVrrWm8ObQdn7bMEAehpm'\n",
      " b\"bgGIKep/2Th5pnMHKAynI',\\n                t: 'MTY2NjExNDQ5OC45NjgwMDA=',\\n \"\n",
      " b\"               m: 'Dtef9NQAgP952VmUgzjiJtslqwW1SYx0pjazGme8SM4=',\\n      \"\n",
      " b\"          i1: 'BIQJwz/yXlG3YPNslpuNkg==',\\n                i2: 'IiRV1C1CM\"\n",
      " b\"8dHKw+wBmyGMw==',\\n                zh: 'MYPZaDt93/n+i/zoik8Q5B4rNo75M88ZQ\"\n",
      " b\"Hevg31AJek=',\\n                uh: '1Bc5rg8nfEVH6irspelighPKncHSUeSlsWeye\"\n",
      " b\"jf/3SI=',\\n                hh: 'w+icDAWoSjxex064a5CZutpetBiSACwcZG4Emfuqj\"\n",
      " b\"NI=',\\n            }\\n        };\\n        var trkjs = document.createElemen\"\n",
      " b\"t('img');\\n        trkjs.setAttribute('src', '/cdn-cgi/images/trace/manag\"\n",
      " b\"ed/js/transparent.gif?ray=75c307228b1984ad');\\n        trkjs.setAttribute\"\n",
      " b\"('style', 'display: none');\\n        document.body.appendChild(trkjs);\\n  \"\n",
      " b\"      var cpo = document.createElement('script');\\n        cpo.src = '/cd\"\n",
      " b'n-cgi/challenge-platform/h/b/orchestrate/managed/v1?ray=75c307228b1984ad'\n",
      " b\"';\\n        window._cf_chl_opt.cOgUHash = location.hash === '' && locatio\"\n",
      " b\"n.href.indexOf('#') !== -1 ? '#' : location.hash;\\n        window._cf_chl\"\n",
      " b\"_opt.cOgUQuery = location.search === '' && location.href.slice(0, -window._c\"\n",
      " b\"f_chl_opt.cOgUHash.length).indexOf('?') !== -1 ? '?' : location.search;\\n\"\n",
      " b'        if (window.history && window.history.replaceState) {\\n           '\n",
      " b' var ogU = location.pathname + window._cf_chl_opt.cOgUQuery + window._cf_chl'\n",
      " b'_opt.cOgUHash;\\n            history.replaceState(null, null, \"\\\\/?__cf_chl'\n",
      " b'_rt_tk=qIzf6yzLlJyzVdjbHEfM9zmeveuITOIMCgwkmGsXti8-1666114498-0-gaNycGzNB6U\"'\n",
      " b' + window._cf_chl_opt.cOgUHash);\\n            cpo.onload = function() {\\n '\n",
      " b'               history.replaceState(null, null, ogU);\\n            };\\n   '\n",
      " b\"     }\\n        document.getElementsByTagName('head')[0].appendChild(cpo)\"\n",
      " b';\\n    }());\\n</script>\\n\\n    <div class=\"footer\" role=\"contentinfo\">\\n '\n",
      " b'       <div class=\"footer-inner\">\\n            <div class=\"clearfix diagn'\n",
      " b'ostic-wrapper\">\\n                <div class=\"ray-id\">Ray ID: <code>75c307'\n",
      " b'228b1984ad</code></div>\\n            </div>\\n            <div class=\"text-'\n",
      " b'center\">Performance &amp; security by <a rel=\"noopener noreferrer\" href=\"htt'\n",
      " b'ps://www.cloudflare.com?utm_source=challenge&utm_campaign=m\" target=\"_blank\"'\n",
      " b'>Cloudflare</a></div>\\n        </div>\\n    </div>\\n</body>\\n</html>\\n')\n"
     ]
    }
   ],
   "source": [
    "import cfscrape\n",
    "import pprint\n",
    "\n",
    "scraper = cfscrape.create_scraper()  # returns a CloudflareScraper instance\n",
    "# Or: scraper = cfscrape.CloudflareScraper()  # CloudflareScraper inherits from requests.Session\n",
    "pprint.pprint(scraper.get(url).content)  # => \"<!DOCTYPE html><html><head>...\""
   ]
  },
  {
   "cell_type": "code",
   "execution_count": 20,
   "id": "f51b2d8f",
   "metadata": {},
   "outputs": [],
   "source": [
    "import requests\n",
    "from bs4 import BeautifulSoup"
   ]
  },
  {
   "cell_type": "code",
   "execution_count": 28,
   "id": "e32aba83",
   "metadata": {},
   "outputs": [
    {
     "name": "stdout",
     "output_type": "stream",
     "text": [
      "<!DOCTYPE html>\n",
      "<html lang=\"en-US\">\n",
      " <head>\n",
      "  <title>\n",
      "   Just a moment...\n",
      "  </title>\n",
      "  <meta content=\"text/html; charset=utf-8\" http-equiv=\"Content-Type\"/>\n",
      "  <meta content=\"IE=Edge\" http-equiv=\"X-UA-Compatible\"/>\n",
      "  <meta content=\"noindex,nofollow\" name=\"robots\"/>\n",
      "  <meta content=\"width=device-width,initial-scale=1\" name=\"viewport\"/>\n",
      "  <link href=\"/cdn-cgi/styles/challenges.css\" rel=\"stylesheet\"/>\n",
      " </head>\n",
      " <body class=\"no-js\">\n",
      "  <div class=\"main-wrapper\" role=\"main\">\n",
      "   <div class=\"main-content\">\n",
      "    <h1 class=\"zone-name-title h1\">\n",
      "     <img class=\"heading-favicon\" onerror=\"this.onerror=null;this.parentNode.removeChild(this)\" src=\"/favicon.ico\"/>\n",
      "     clutch.co\n",
      "    </h1>\n",
      "    <h2 class=\"h2\" id=\"challenge-running\">\n",
      "     Checking if the site connection is secure\n",
      "    </h2>\n",
      "    <noscript>\n",
      "     <div id=\"challenge-error-title\">\n",
      "      <div class=\"h2\">\n",
      "       <span class=\"icon-wrapper\">\n",
      "        <div class=\"heading-icon warning-icon\">\n",
      "        </div>\n",
      "       </span>\n",
      "       <span id=\"challenge-error-text\">\n",
      "        Enable JavaScript and cookies to continue\n",
      "       </span>\n",
      "      </div>\n",
      "     </div>\n",
      "    </noscript>\n",
      "    <div id=\"trk_jschal_js\" style=\"display:none;background-image:url('/cdn-cgi/images/trace/managed/nojs/transparent.gif?ray=75c357058c754acf')\">\n",
      "    </div>\n",
      "    <div class=\"core-msg spacer\" id=\"challenge-body-text\">\n",
      "     clutch.co needs to review the security of your connection before proceeding.\n",
      "    </div>\n",
      "    <form action=\"/headers?__cf_chl_f_tk=RFtbDsKFk8J7nFxE2UqceGcBfCqv9Kqszq96Pv1XQa4-1666117771-0-gaNycGzNByU\" enctype=\"application/x-www-form-urlencoded\" id=\"challenge-form\" method=\"POST\">\n",
      "     <input name=\"md\" type=\"hidden\" value=\"_Xb2b6dOZOhRJfltYwhJNl2Zl2kR9YxV6RE_QDSXF4Q-1666117771-0-AeJVvtNzOd1ZKpkkX3722DFzo8Ff6sugzFrjcy2WLRBiAjG2wTNIAnqnPeLCrFTg2a1sRvHNhrikeGra2W96h9BrAg0OJjRrTNINbqj5aIXY3IqtdIcbPu569KEUajP0qLTE-G0eBIXKDju4DkjOjJawchjiTcDVFcuRWnZR6faIvG_DGf7OZ9IJ9fWIMCvrSw1y9SMvIz2q7rTdPInVDj_a7Jh02tk8b-pugx5GxIvRJRaUw-IQxCAnVini7hW5oVJZjpB6jw_5DzZnWJZFlTVUCSyZ_tqmcPHPqtK7p3ZqSXNX-1vHYi9ttw3rprHmkNySG17w-DgX75zgXM3BXaKDLJ3TgHSqXXASCjguEi5sOLq2rkBH42ojclK18sfZPVw04Rx0qUB2YU09-jZy1_d2vN-WAFFuRlwMFnF8iOODQXbIfKY13TfZaD24iUK06GZgp7V8CUSir57bjdeT4XFjsoC_jZPrhKhuDXFZwq6wQH4bRLDQqaTdDi5SMbt8iGtG7Qzu9cZmCwsVxjzdPU_gtYo4lU7sLYPWkl4wkjaKoH83hTxbPZF-6fsbJ3EMx1t3e2QLyDWt_wQ25CjQOmDs3y0aSsQNTCz8FSluj9uqKEUtmOTXgVHLk6AxwHdrPrENindQwXTLStlsqNBpgEY\"/>\n",
      "     <input name=\"r\" type=\"hidden\" value=\"_zcLQsfKi3dT0KA79zJsqp0eCHAuuI5qb6jIc0JaROc-1666117771-0-AYBQ6eUSkLwfrXvy1vZQoqR1LHjQXJqNfYrc1oHUOrhHfL0UEtVCMbpYu132sXoEu4/fOm4jdbql7zldTTcHVnSJZBJpNpxm2smBvEEhkwg2js2n2IiG/Riou92LGh01+YwiU339CI3KD3M/VylznnK12M8vHgY6Bf8fSHmx6v9QoNHGfkyGDAKqFSvy19dnFp0seGOQpx53iQlypTGRCVCqxKgJbRVAXsvj36G/1qH/JJwzeg3v0hCgoETyVe9PPWDlWlavJHe13f7U2vAGsSUDVt0ddBidiC5sCGcqFBbm9fCI1bCcFsGds9yON959kf9zWVpo1UOT21+GrD5qt5lKtcwgOw15qRq4Gf9vuY3Pcj35TtQ73H1wJgGL8Q1cNjhEINaPfF7SIzeKfpnGzosP6ph5lqu/iboP+I6N4zToBOcV7+2isJ7gStrpJ6bj9RFdi0WDIyo+4OjwObOY1Ba7VbRlKKH72V8OvT4F6hWoA38ZEKMQpbRCyAEAtH99sgAYfpTFj2R5TzdmH0dpenoF7tG91D4I5m8x72LfQPIs2Y29Lovo2OfXlc+uWmaLrlo2aSOJWpst3xv54H8kq8/4MBLw9U2nT8em+a51olt1Kjhi+Ehj7AlZABz9x+JWRrjM9I9KXuDYcy2vxKTv6NeMSrMo+7NDVKEgEgtzKuYiVrfUDWY+E3QfPZITdeAQjPy+FjBMf5euC5ftR5NMADMpJOhp0EbqhKay8XhQJDNVT42omQiUkxMLU646xGjJHdKy/O9i/YEax02Vc87MuFTYkCLV6La5RRI6VxvoHT4urJ8pkGvg9pNAeY6yzeIZzF7SRrnUMWQPiTgTKiMyst+OY5WJFSA+Qq/WOW+lFrUjgc8dOeK6wcDdVF8azVp96lSg0pFFcTiLfzF+j9Mls0nLqoMyaeNKKkhh4YHrLRYYBQENOBLm2O/QFkV+kuucels3dzfp0VL80bw3dm83NgFHUPb2t5SWdP4NQuJtbEb8Tl4MmnwINEShtcCF7YwRzHpkGSnJFppRSH6uSRTEGM5Q/huWuNX8HFZJrCYcvJd1Y6zu7KKddla0BIuu+7MLy1o2K7l5klkSI3oJk0AEE67+yNCy6DPiAt26Z3LarpiYgA924NsYTszhyWwn20K6qTddQLodXdMM1JNhYxjMEFAPTEd6SGRPydVmHfdki7fTmvYpWFbRkwEew+WJJHdM5fLvCjGLQyLnw7dqaakHMmkEOAszl+feBp/rmhDoxvgs3rRZJYSHA8m2unDhpaS5pK/kD9vJ9Be9glrBAVsORcuVJwkemiwlB2Jgl20BwcDOeXl5m/r6Zb6z8+eiDRhm932H4rqBXe4A/hsMiTicCUrY8UM57cYBW27kUeOocHoay7R6Y2qBM94fktYogo16/bWarxHrO26ASdopXMUwwqnJilMKLJlADmwJMoYCOd4eCRMB3j2YpXj/4KeOz61o5i5QwCm9kBx8Zyi3xI82UyPCS9xq5CuNCJ5ZFyLyp7Q3zq4Dt2ciG4xDYgp1hiQ4TlWkUt38HIT2MM7ruEvNoQfY7oMAN/8y2UTubVDyhOGI9vhPGFBeKLo02Bqqu3ycXDvYoocbGHBob521yEtjKsUmCcfOariEuWv1PeP5ZEW/lghdqbvh3TP0ljy15RvAlxxYMrWH9pKbmlPvhOkcFZPzZISfBNG5/+PTP7FKn5QrgVsZvHvaUdIF/YrHY+13YGxIYGkCfuiUiLECZ+weiC5109VP6xG7DRy+jczk9kED\"/>\n",
      "    </form>\n",
      "   </div>\n",
      "  </div>\n",
      "  <script>\n",
      "   (function(){\n",
      "        window._cf_chl_opt={\n",
      "            cvId: '2',\n",
      "            cType: 'managed',\n",
      "            cNounce: '31120',\n",
      "            cRay: '75c357058c754acf',\n",
      "            cHash: 'ad7a8c13edf06a6',\n",
      "            cUPMDTk: \"\\/headers?__cf_chl_tk=RFtbDsKFk8J7nFxE2UqceGcBfCqv9Kqszq96Pv1XQa4-1666117771-0-gaNycGzNByU\",\n",
      "            cFPWv: 'b',\n",
      "            cTTimeMs: '1000',\n",
      "            cTplV: 4,\n",
      "            cTplB: 'cf',\n",
      "            cRq: {\n",
      "                ru: 'aHR0cHM6Ly9jbHV0Y2guY28vaGVhZGVycw==',\n",
      "                ra: 'cHl0aG9uLXJlcXVlc3RzLzIuMjguMQ==',\n",
      "                rm: 'R0VU',\n",
      "                d: 'O74MgFK8W3tZnlAZB6k5LXe8/DFJapk/+VnqFspvfK9h2UPKGh5X91BEp07oFI9GdhQ6CIemU7+KuTTfffcDHfQSFD4Sfg/9XvSiAS3uE5LKN6e5xkmZ8DKPzvtq+QKWVq6s67LI5TQ3CFdSheifeJg3MEHiZbMcznbYZkRr1TUM8kSb2Ae8MPYJe98MAlRtXlgfMAZImHzTjczu/Vnn0ah0MZ5JYYalauOrES0IO1aDnq6WExN9LQW7sHnRnCaut0EikLhSbBau0G1sU/3lgDEnTzq1jBmChTWaA2KWGJjnzTXTUHl7CwA1+4GIrju3qmq8Htt895RCkqKwux86aGrFrC7I2dGXA3bmeOHGUM4k05rkWsAT4XUHVtz4Pb5NsMQrlhS3tLF+9oP9AS+QoUs/1/9QgwzphCvASM/OzNgKd/T3rNBsu8f/OcapG/2uiXNhf8GILDFXYg4Hv16sZ3MeugrWv/L4q8gXprpBksL9tT4EfVoxSjhBccQmaX+ZO4xEUbg0qWmSGTyR9LXKzLGU9u8k48kBmM3SOcAYNmYxmSSN2k2D4CZPXNAdopYDg3D1Rjr9qTrMO2wnC7QL6qWa/GpEM2l3SNhNWrbAEFveUI06D6niNuRSkCZ050CXB3/po2TByeWDAgeWnN7JIQ==',\n",
      "                t: 'MTY2NjExNzc3MS4xMzAwMDA=',\n",
      "                m: 'wRdoCI5Cx4CCyN2bMpM3yKCalvOziyXBVHCDoDufdlY=',\n",
      "                i1: 'vTxYupVU8Jy9a6iCRLW8mw==',\n",
      "                i2: 'FJkcnxW977FnvMaDD5ngeA==',\n",
      "                zh: 'MYPZaDt93/n+i/zoik8Q5B4rNo75M88ZQHevg31AJek=',\n",
      "                uh: 'SLdVolODg++SO356HusO5I/hbfOpiiOxQXj62i/MUkA=',\n",
      "                hh: 'w+icDAWoSjxex064a5CZutpetBiSACwcZG4EmfuqjNI=',\n",
      "            }\n",
      "        };\n",
      "        var trkjs = document.createElement('img');\n",
      "        trkjs.setAttribute('src', '/cdn-cgi/images/trace/managed/js/transparent.gif?ray=75c357058c754acf');\n",
      "        trkjs.setAttribute('style', 'display: none');\n",
      "        document.body.appendChild(trkjs);\n",
      "        var cpo = document.createElement('script');\n",
      "        cpo.src = '/cdn-cgi/challenge-platform/h/b/orchestrate/managed/v1?ray=75c357058c754acf';\n",
      "        window._cf_chl_opt.cOgUHash = location.hash === '' && location.href.indexOf('#') !== -1 ? '#' : location.hash;\n",
      "        window._cf_chl_opt.cOgUQuery = location.search === '' && location.href.slice(0, -window._cf_chl_opt.cOgUHash.length).indexOf('?') !== -1 ? '?' : location.search;\n",
      "        if (window.history && window.history.replaceState) {\n",
      "            var ogU = location.pathname + window._cf_chl_opt.cOgUQuery + window._cf_chl_opt.cOgUHash;\n",
      "            history.replaceState(null, null, \"\\/headers?__cf_chl_rt_tk=RFtbDsKFk8J7nFxE2UqceGcBfCqv9Kqszq96Pv1XQa4-1666117771-0-gaNycGzNByU\" + window._cf_chl_opt.cOgUHash);\n",
      "            cpo.onload = function() {\n",
      "                history.replaceState(null, null, ogU);\n",
      "            };\n",
      "        }\n",
      "        document.getElementsByTagName('head')[0].appendChild(cpo);\n",
      "    }());\n",
      "  </script>\n",
      "  <div class=\"footer\" role=\"contentinfo\">\n",
      "   <div class=\"footer-inner\">\n",
      "    <div class=\"clearfix diagnostic-wrapper\">\n",
      "     <div class=\"ray-id\">\n",
      "      Ray ID:\n",
      "      <code>\n",
      "       75c357058c754acf\n",
      "      </code>\n",
      "     </div>\n",
      "    </div>\n",
      "    <div class=\"text-center\">\n",
      "     Performance &amp; security by\n",
      "     <a href=\"https://www.cloudflare.com?utm_source=challenge&amp;utm_campaign=m\" rel=\"noopener noreferrer\" target=\"_blank\">\n",
      "      Cloudflare\n",
      "     </a>\n",
      "    </div>\n",
      "   </div>\n",
      "  </div>\n",
      " </body>\n",
      "</html>\n",
      "\n"
     ]
    }
   ],
   "source": [
    "r = requests.get('https://clutch.co/headers')\n",
    "soup = BeautifulSoup(r.content)\n",
    "print(soup.prettify())"
   ]
  },
  {
   "cell_type": "code",
   "execution_count": 29,
   "id": "19dea4e9",
   "metadata": {},
   "outputs": [
    {
     "data": {
      "text/plain": [
       "<div id=\"challenge-error-title\">\n",
       "<div class=\"h2\">\n",
       "<span class=\"icon-wrapper\">\n",
       "<div class=\"heading-icon warning-icon\"></div>\n",
       "</span>\n",
       "<span id=\"challenge-error-text\">\n",
       "                        Enable JavaScript and cookies to continue\n",
       "                    </span>\n",
       "</div>\n",
       "</div>"
      ]
     },
     "execution_count": 29,
     "metadata": {},
     "output_type": "execute_result"
    }
   ],
   "source": [
    "soup.find('div', attrs= {'class':''})"
   ]
  },
  {
   "cell_type": "code",
   "execution_count": 23,
   "id": "1c6e432e",
   "metadata": {},
   "outputs": [],
   "source": [
    "from urllib.request import Request, urlopen"
   ]
  },
  {
   "cell_type": "code",
   "execution_count": 26,
   "id": "1a4e7c4d",
   "metadata": {},
   "outputs": [],
   "source": [
    "req = Request(\n",
    "    url,\n",
    "    headers={'User-Agent': 'Mozilla/5.0'}\n",
    ")"
   ]
  },
  {
   "cell_type": "code",
   "execution_count": 27,
   "id": "d90e8943",
   "metadata": {},
   "outputs": [
    {
     "ename": "HTTPError",
     "evalue": "HTTP Error 403: Forbidden",
     "output_type": "error",
     "traceback": [
      "\u001b[1;31m---------------------------------------------------------------------------\u001b[0m",
      "\u001b[1;31mHTTPError\u001b[0m                                 Traceback (most recent call last)",
      "Input \u001b[1;32mIn [27]\u001b[0m, in \u001b[0;36m<cell line: 1>\u001b[1;34m()\u001b[0m\n\u001b[1;32m----> 1\u001b[0m \u001b[43murlopen\u001b[49m\u001b[43m(\u001b[49m\u001b[43mreq\u001b[49m\u001b[43m)\u001b[49m\u001b[38;5;241m.\u001b[39mread()\n",
      "File \u001b[1;32m~\\AppData\\Local\\Programs\\Python\\Python310\\lib\\urllib\\request.py:216\u001b[0m, in \u001b[0;36murlopen\u001b[1;34m(url, data, timeout, cafile, capath, cadefault, context)\u001b[0m\n\u001b[0;32m    214\u001b[0m \u001b[38;5;28;01melse\u001b[39;00m:\n\u001b[0;32m    215\u001b[0m     opener \u001b[38;5;241m=\u001b[39m _opener\n\u001b[1;32m--> 216\u001b[0m \u001b[38;5;28;01mreturn\u001b[39;00m \u001b[43mopener\u001b[49m\u001b[38;5;241;43m.\u001b[39;49m\u001b[43mopen\u001b[49m\u001b[43m(\u001b[49m\u001b[43murl\u001b[49m\u001b[43m,\u001b[49m\u001b[43m \u001b[49m\u001b[43mdata\u001b[49m\u001b[43m,\u001b[49m\u001b[43m \u001b[49m\u001b[43mtimeout\u001b[49m\u001b[43m)\u001b[49m\n",
      "File \u001b[1;32m~\\AppData\\Local\\Programs\\Python\\Python310\\lib\\urllib\\request.py:525\u001b[0m, in \u001b[0;36mOpenerDirector.open\u001b[1;34m(self, fullurl, data, timeout)\u001b[0m\n\u001b[0;32m    523\u001b[0m \u001b[38;5;28;01mfor\u001b[39;00m processor \u001b[38;5;129;01min\u001b[39;00m \u001b[38;5;28mself\u001b[39m\u001b[38;5;241m.\u001b[39mprocess_response\u001b[38;5;241m.\u001b[39mget(protocol, []):\n\u001b[0;32m    524\u001b[0m     meth \u001b[38;5;241m=\u001b[39m \u001b[38;5;28mgetattr\u001b[39m(processor, meth_name)\n\u001b[1;32m--> 525\u001b[0m     response \u001b[38;5;241m=\u001b[39m \u001b[43mmeth\u001b[49m\u001b[43m(\u001b[49m\u001b[43mreq\u001b[49m\u001b[43m,\u001b[49m\u001b[43m \u001b[49m\u001b[43mresponse\u001b[49m\u001b[43m)\u001b[49m\n\u001b[0;32m    527\u001b[0m \u001b[38;5;28;01mreturn\u001b[39;00m response\n",
      "File \u001b[1;32m~\\AppData\\Local\\Programs\\Python\\Python310\\lib\\urllib\\request.py:634\u001b[0m, in \u001b[0;36mHTTPErrorProcessor.http_response\u001b[1;34m(self, request, response)\u001b[0m\n\u001b[0;32m    631\u001b[0m \u001b[38;5;66;03m# According to RFC 2616, \"2xx\" code indicates that the client's\u001b[39;00m\n\u001b[0;32m    632\u001b[0m \u001b[38;5;66;03m# request was successfully received, understood, and accepted.\u001b[39;00m\n\u001b[0;32m    633\u001b[0m \u001b[38;5;28;01mif\u001b[39;00m \u001b[38;5;129;01mnot\u001b[39;00m (\u001b[38;5;241m200\u001b[39m \u001b[38;5;241m<\u001b[39m\u001b[38;5;241m=\u001b[39m code \u001b[38;5;241m<\u001b[39m \u001b[38;5;241m300\u001b[39m):\n\u001b[1;32m--> 634\u001b[0m     response \u001b[38;5;241m=\u001b[39m \u001b[38;5;28;43mself\u001b[39;49m\u001b[38;5;241;43m.\u001b[39;49m\u001b[43mparent\u001b[49m\u001b[38;5;241;43m.\u001b[39;49m\u001b[43merror\u001b[49m\u001b[43m(\u001b[49m\n\u001b[0;32m    635\u001b[0m \u001b[43m        \u001b[49m\u001b[38;5;124;43m'\u001b[39;49m\u001b[38;5;124;43mhttp\u001b[39;49m\u001b[38;5;124;43m'\u001b[39;49m\u001b[43m,\u001b[49m\u001b[43m \u001b[49m\u001b[43mrequest\u001b[49m\u001b[43m,\u001b[49m\u001b[43m \u001b[49m\u001b[43mresponse\u001b[49m\u001b[43m,\u001b[49m\u001b[43m \u001b[49m\u001b[43mcode\u001b[49m\u001b[43m,\u001b[49m\u001b[43m \u001b[49m\u001b[43mmsg\u001b[49m\u001b[43m,\u001b[49m\u001b[43m \u001b[49m\u001b[43mhdrs\u001b[49m\u001b[43m)\u001b[49m\n\u001b[0;32m    637\u001b[0m \u001b[38;5;28;01mreturn\u001b[39;00m response\n",
      "File \u001b[1;32m~\\AppData\\Local\\Programs\\Python\\Python310\\lib\\urllib\\request.py:563\u001b[0m, in \u001b[0;36mOpenerDirector.error\u001b[1;34m(self, proto, *args)\u001b[0m\n\u001b[0;32m    561\u001b[0m \u001b[38;5;28;01mif\u001b[39;00m http_err:\n\u001b[0;32m    562\u001b[0m     args \u001b[38;5;241m=\u001b[39m (\u001b[38;5;28mdict\u001b[39m, \u001b[38;5;124m'\u001b[39m\u001b[38;5;124mdefault\u001b[39m\u001b[38;5;124m'\u001b[39m, \u001b[38;5;124m'\u001b[39m\u001b[38;5;124mhttp_error_default\u001b[39m\u001b[38;5;124m'\u001b[39m) \u001b[38;5;241m+\u001b[39m orig_args\n\u001b[1;32m--> 563\u001b[0m     \u001b[38;5;28;01mreturn\u001b[39;00m \u001b[38;5;28;43mself\u001b[39;49m\u001b[38;5;241;43m.\u001b[39;49m\u001b[43m_call_chain\u001b[49m\u001b[43m(\u001b[49m\u001b[38;5;241;43m*\u001b[39;49m\u001b[43margs\u001b[49m\u001b[43m)\u001b[49m\n",
      "File \u001b[1;32m~\\AppData\\Local\\Programs\\Python\\Python310\\lib\\urllib\\request.py:496\u001b[0m, in \u001b[0;36mOpenerDirector._call_chain\u001b[1;34m(self, chain, kind, meth_name, *args)\u001b[0m\n\u001b[0;32m    494\u001b[0m \u001b[38;5;28;01mfor\u001b[39;00m handler \u001b[38;5;129;01min\u001b[39;00m handlers:\n\u001b[0;32m    495\u001b[0m     func \u001b[38;5;241m=\u001b[39m \u001b[38;5;28mgetattr\u001b[39m(handler, meth_name)\n\u001b[1;32m--> 496\u001b[0m     result \u001b[38;5;241m=\u001b[39m \u001b[43mfunc\u001b[49m\u001b[43m(\u001b[49m\u001b[38;5;241;43m*\u001b[39;49m\u001b[43margs\u001b[49m\u001b[43m)\u001b[49m\n\u001b[0;32m    497\u001b[0m     \u001b[38;5;28;01mif\u001b[39;00m result \u001b[38;5;129;01mis\u001b[39;00m \u001b[38;5;129;01mnot\u001b[39;00m \u001b[38;5;28;01mNone\u001b[39;00m:\n\u001b[0;32m    498\u001b[0m         \u001b[38;5;28;01mreturn\u001b[39;00m result\n",
      "File \u001b[1;32m~\\AppData\\Local\\Programs\\Python\\Python310\\lib\\urllib\\request.py:643\u001b[0m, in \u001b[0;36mHTTPDefaultErrorHandler.http_error_default\u001b[1;34m(self, req, fp, code, msg, hdrs)\u001b[0m\n\u001b[0;32m    642\u001b[0m \u001b[38;5;28;01mdef\u001b[39;00m \u001b[38;5;21mhttp_error_default\u001b[39m(\u001b[38;5;28mself\u001b[39m, req, fp, code, msg, hdrs):\n\u001b[1;32m--> 643\u001b[0m     \u001b[38;5;28;01mraise\u001b[39;00m HTTPError(req\u001b[38;5;241m.\u001b[39mfull_url, code, msg, hdrs, fp)\n",
      "\u001b[1;31mHTTPError\u001b[0m: HTTP Error 403: Forbidden"
     ]
    }
   ],
   "source": [
    "urlopen(req).read()"
   ]
  },
  {
   "cell_type": "code",
   "execution_count": null,
   "id": "85b749d0",
   "metadata": {},
   "outputs": [],
   "source": []
  }
 ],
 "metadata": {
  "kernelspec": {
   "display_name": "Python 3 (ipykernel)",
   "language": "python",
   "name": "python3"
  },
  "language_info": {
   "codemirror_mode": {
    "name": "ipython",
    "version": 3
   },
   "file_extension": ".py",
   "mimetype": "text/x-python",
   "name": "python",
   "nbconvert_exporter": "python",
   "pygments_lexer": "ipython3",
   "version": "3.10.2"
  }
 },
 "nbformat": 4,
 "nbformat_minor": 5
}
