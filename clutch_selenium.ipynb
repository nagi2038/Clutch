{
 "cells": [
  {
   "cell_type": "code",
   "execution_count": 173,
   "id": "55e5ac4f",
   "metadata": {},
   "outputs": [],
   "source": [
    "from selenium import webdriver\n",
    "from selenium.webdriver.common.action_chains import ActionChains\n",
    "from bs4 import BeautifulSoup\n",
    "import os,re\n",
    "from datetime import datetime\n",
    "from time import sleep"
   ]
  },
  {
   "cell_type": "code",
   "execution_count": 2,
   "id": "39b4bd15",
   "metadata": {},
   "outputs": [],
   "source": [
    "url = 'https://clutch.co/'"
   ]
  },
  {
   "cell_type": "code",
   "execution_count": 3,
   "id": "e2507ed2",
   "metadata": {},
   "outputs": [],
   "source": [
    "options = webdriver.ChromeOptions()"
   ]
  },
  {
   "cell_type": "code",
   "execution_count": 4,
   "id": "6182c1b7",
   "metadata": {},
   "outputs": [],
   "source": [
    "download_path = os.getcwd()"
   ]
  },
  {
   "cell_type": "code",
   "execution_count": 5,
   "id": "b1089a97",
   "metadata": {},
   "outputs": [],
   "source": [
    "prefs = {'download.default_directory':download_path}"
   ]
  },
  {
   "cell_type": "code",
   "execution_count": 6,
   "id": "75e0e7fc",
   "metadata": {},
   "outputs": [],
   "source": [
    "options.add_experimental_option('prefs', prefs)"
   ]
  },
  {
   "cell_type": "code",
   "execution_count": 7,
   "id": "9c10e311",
   "metadata": {},
   "outputs": [],
   "source": [
    "ChromeDriverPath = r'chromedriver.exe'"
   ]
  },
  {
   "cell_type": "code",
   "execution_count": 8,
   "id": "f1cc0e70",
   "metadata": {},
   "outputs": [
    {
     "name": "stderr",
     "output_type": "stream",
     "text": [
      "C:\\Users\\AREKUTI\\AppData\\Local\\Temp\\ipykernel_6652\\220973017.py:1: DeprecationWarning: executable_path has been deprecated, please pass in a Service object\n",
      "  driver = webdriver.Chrome(executable_path = ChromeDriverPath , options=options)\n"
     ]
    }
   ],
   "source": [
    "driver = webdriver.Chrome(executable_path = ChromeDriverPath , options=options)"
   ]
  },
  {
   "cell_type": "code",
   "execution_count": 9,
   "id": "b8da46f7",
   "metadata": {},
   "outputs": [],
   "source": [
    "driver.maximize_window()"
   ]
  },
  {
   "cell_type": "code",
   "execution_count": 10,
   "id": "00de13f0",
   "metadata": {},
   "outputs": [],
   "source": [
    "webActions = ActionChains(driver)"
   ]
  },
  {
   "cell_type": "code",
   "execution_count": 11,
   "id": "f8684c2d",
   "metadata": {},
   "outputs": [],
   "source": [
    "driver.set_page_load_timeout(200000)\n",
    "driver.set_script_timeout(20000)"
   ]
  },
  {
   "cell_type": "code",
   "execution_count": 12,
   "id": "0c5f41fd",
   "metadata": {},
   "outputs": [],
   "source": [
    "driver.get(url)\n",
    "# driver.implicitly_wait(10)\n",
    "# driver.find_element_by_xpath('//*[@id=\"CybotCookiebotDialogBodyButtonAccept\"]').click()"
   ]
  },
  {
   "cell_type": "code",
   "execution_count": 13,
   "id": "94d4a17c",
   "metadata": {},
   "outputs": [],
   "source": [
    "list_data = driver.find_element(\"xpath\", '/html/body/main/article/section[2]/div/div[2]')\n"
   ]
  },
  {
   "cell_type": "code",
   "execution_count": 14,
   "id": "8c1643ba",
   "metadata": {
    "scrolled": true
   },
   "outputs": [],
   "source": [
    "main_div = driver.execute_script(\"return arguments[0].innerHTML;\",list_data)"
   ]
  },
  {
   "cell_type": "code",
   "execution_count": 15,
   "id": "b679646e",
   "metadata": {},
   "outputs": [],
   "source": [
    "soup = BeautifulSoup(main_div)"
   ]
  },
  {
   "cell_type": "code",
   "execution_count": 16,
   "id": "06a0c2a7",
   "metadata": {},
   "outputs": [],
   "source": [
    "# print(soup.prettify())"
   ]
  },
  {
   "cell_type": "code",
   "execution_count": 17,
   "id": "602eacc6",
   "metadata": {},
   "outputs": [
    {
     "data": {
      "text/plain": [
       "'Mobile\\tApp Development'"
      ]
     },
     "execution_count": 17,
     "metadata": {},
     "output_type": "execute_result"
    }
   ],
   "source": [
    "soup.find('div').find('nav').find('a').text\n",
    "# 1  div - to get all domains -  usefind all\n",
    "# 2  nav - to access each domain data \n",
    "# 3  a - to get link of each domain data"
   ]
  },
  {
   "cell_type": "code",
   "execution_count": 18,
   "id": "11fdedb8",
   "metadata": {},
   "outputs": [],
   "source": [
    "# dir(soup.find('div').find('nav'))"
   ]
  },
  {
   "cell_type": "code",
   "execution_count": 19,
   "id": "51f2d847",
   "metadata": {},
   "outputs": [],
   "source": [
    "# dir(soup.find('div').find('nav').find('a')"
   ]
  },
  {
   "cell_type": "code",
   "execution_count": 20,
   "id": "28704b27",
   "metadata": {},
   "outputs": [
    {
     "data": {
      "text/plain": [
       "'https://clutch.co//directory/mobile-application-developers'"
      ]
     },
     "execution_count": 20,
     "metadata": {},
     "output_type": "execute_result"
    }
   ],
   "source": [
    "driver.delete_all_cookies()\n",
    "url+soup.find('div').find('nav').find('a').get('href')"
   ]
  },
  {
   "cell_type": "code",
   "execution_count": 21,
   "id": "20636cac",
   "metadata": {},
   "outputs": [],
   "source": [
    "sleep(2)\n",
    "driver.get(url+soup.find('div').find('nav').find('a').get('href'))"
   ]
  },
  {
   "cell_type": "code",
   "execution_count": 22,
   "id": "9c58fc47",
   "metadata": {},
   "outputs": [
    {
     "data": {
      "text/plain": [
       "'https://clutch.co/directory/mobile-application-developers'"
      ]
     },
     "execution_count": 22,
     "metadata": {},
     "output_type": "execute_result"
    }
   ],
   "source": [
    "driver.current_url"
   ]
  },
  {
   "cell_type": "code",
   "execution_count": 23,
   "id": "1ca9332b",
   "metadata": {},
   "outputs": [],
   "source": [
    "mobDev_urlData = driver.find_element(\"xpath\",'//*[@id=\"providers\"]/nav/ul')\n",
    "mobDev_url = driver.execute_script(\"return arguments[0].innerHTML;\",mobDev_urlData)"
   ]
  },
  {
   "cell_type": "code",
   "execution_count": 24,
   "id": "a33e9962",
   "metadata": {},
   "outputs": [],
   "source": [
    "soup_url =  BeautifulSoup(mobDev_url)"
   ]
  },
  {
   "cell_type": "code",
   "execution_count": 193,
   "id": "96e74207",
   "metadata": {},
   "outputs": [
    {
     "data": {
      "text/plain": [
       "'/directory/mobile-application-developers?page=658'"
      ]
     },
     "execution_count": 193,
     "metadata": {},
     "output_type": "execute_result"
    }
   ],
   "source": [
    "soup_url.findAll('li')[-1].find('a').get('href')"
   ]
  },
  {
   "cell_type": "code",
   "execution_count": 26,
   "id": "da96d47d",
   "metadata": {},
   "outputs": [
    {
     "name": "stdout",
     "output_type": "stream",
     "text": [
      "Naked.\n",
      "Blue Whale Apps\n",
      "MobileFolk\n",
      "NERDZ LAB\n"
     ]
    }
   ],
   "source": [
    "sleep(2)\n",
    "for i in range(4):\n",
    "    driver.delete_all_cookies()\n",
    "    driver.get(url+soup_url.findAll('li')[i].find('a').get('href'))\n",
    "    dev_data = BeautifulSoup(driver.execute_script(\"return arguments[0].innerHTML;\", driver.find_element(\"xpath\",'//*[@id=\"providers\"]/div[2]')))\n",
    "    print(dev_data.find('li').get('data-title'))"
   ]
  },
  {
   "cell_type": "code",
   "execution_count": 27,
   "id": "cf3ee5a7",
   "metadata": {},
   "outputs": [],
   "source": [
    "sleep(2)\n",
    "driver.delete_all_cookies()\n",
    "driver.get(url)"
   ]
  },
  {
   "cell_type": "code",
   "execution_count": 28,
   "id": "e74a41f9",
   "metadata": {},
   "outputs": [],
   "source": [
    "# //*[@id=\"providers\"]/div[2]\n",
    "# //*[@id=\"providers\"]/div[2]"
   ]
  },
  {
   "cell_type": "code",
   "execution_count": 38,
   "id": "f1de83f6",
   "metadata": {},
   "outputs": [],
   "source": [
    "driver.delete_all_cookies()\n",
    "driver.get(url+soup_url.findAll('li')[1].find('a').get('href'))"
   ]
  },
  {
   "cell_type": "code",
   "execution_count": 39,
   "id": "d33b8b20",
   "metadata": {},
   "outputs": [],
   "source": [
    "dev_data = BeautifulSoup(driver.execute_script(\"return arguments[0].innerHTML;\", driver.find_element(\"xpath\",'//*[@id=\"providers\"]/div[2]')))\n"
   ]
  },
  {
   "cell_type": "code",
   "execution_count": 83,
   "id": "0ae2ec17",
   "metadata": {},
   "outputs": [],
   "source": [
    "for d in dev_data.findAll('li', attrs = {'data-is-lis':'true'}):\n",
    "    pass\n",
    "#     print(d)\n",
    "#     print(d.get('data-title'))"
   ]
  },
  {
   "cell_type": "code",
   "execution_count": 86,
   "id": "50987a33",
   "metadata": {
    "collapsed": true
   },
   "outputs": [
    {
     "data": {
      "text/plain": [
       "['DEFAULT_INTERESTING_STRING_TYPES',\n",
       " '__bool__',\n",
       " '__call__',\n",
       " '__class__',\n",
       " '__contains__',\n",
       " '__copy__',\n",
       " '__delattr__',\n",
       " '__delitem__',\n",
       " '__dict__',\n",
       " '__dir__',\n",
       " '__doc__',\n",
       " '__eq__',\n",
       " '__format__',\n",
       " '__ge__',\n",
       " '__getattr__',\n",
       " '__getattribute__',\n",
       " '__getitem__',\n",
       " '__gt__',\n",
       " '__hash__',\n",
       " '__init__',\n",
       " '__init_subclass__',\n",
       " '__iter__',\n",
       " '__le__',\n",
       " '__len__',\n",
       " '__lt__',\n",
       " '__module__',\n",
       " '__ne__',\n",
       " '__new__',\n",
       " '__reduce__',\n",
       " '__reduce_ex__',\n",
       " '__repr__',\n",
       " '__setattr__',\n",
       " '__setitem__',\n",
       " '__sizeof__',\n",
       " '__str__',\n",
       " '__subclasshook__',\n",
       " '__unicode__',\n",
       " '__weakref__',\n",
       " '_all_strings',\n",
       " '_find_all',\n",
       " '_find_one',\n",
       " '_is_xml',\n",
       " '_lastRecursiveChild',\n",
       " '_last_descendant',\n",
       " '_namespaces',\n",
       " '_should_pretty_print',\n",
       " 'append',\n",
       " 'attrs',\n",
       " 'can_be_empty_element',\n",
       " 'cdata_list_attributes',\n",
       " 'childGenerator',\n",
       " 'children',\n",
       " 'clear',\n",
       " 'contents',\n",
       " 'decode',\n",
       " 'decode_contents',\n",
       " 'decompose',\n",
       " 'decomposed',\n",
       " 'default',\n",
       " 'descendants',\n",
       " 'encode',\n",
       " 'encode_contents',\n",
       " 'extend',\n",
       " 'extract',\n",
       " 'fetchNextSiblings',\n",
       " 'fetchParents',\n",
       " 'fetchPrevious',\n",
       " 'fetchPreviousSiblings',\n",
       " 'find',\n",
       " 'findAll',\n",
       " 'findAllNext',\n",
       " 'findAllPrevious',\n",
       " 'findChild',\n",
       " 'findChildren',\n",
       " 'findNext',\n",
       " 'findNextSibling',\n",
       " 'findNextSiblings',\n",
       " 'findParent',\n",
       " 'findParents',\n",
       " 'findPrevious',\n",
       " 'findPreviousSibling',\n",
       " 'findPreviousSiblings',\n",
       " 'find_all',\n",
       " 'find_all_next',\n",
       " 'find_all_previous',\n",
       " 'find_next',\n",
       " 'find_next_sibling',\n",
       " 'find_next_siblings',\n",
       " 'find_parent',\n",
       " 'find_parents',\n",
       " 'find_previous',\n",
       " 'find_previous_sibling',\n",
       " 'find_previous_siblings',\n",
       " 'format_string',\n",
       " 'formatter_for_name',\n",
       " 'get',\n",
       " 'getText',\n",
       " 'get_attribute_list',\n",
       " 'get_text',\n",
       " 'has_attr',\n",
       " 'has_key',\n",
       " 'hidden',\n",
       " 'index',\n",
       " 'insert',\n",
       " 'insert_after',\n",
       " 'insert_before',\n",
       " 'interesting_string_types',\n",
       " 'isSelfClosing',\n",
       " 'is_empty_element',\n",
       " 'known_xml',\n",
       " 'name',\n",
       " 'namespace',\n",
       " 'next',\n",
       " 'nextGenerator',\n",
       " 'nextSibling',\n",
       " 'nextSiblingGenerator',\n",
       " 'next_element',\n",
       " 'next_elements',\n",
       " 'next_sibling',\n",
       " 'next_siblings',\n",
       " 'parent',\n",
       " 'parentGenerator',\n",
       " 'parents',\n",
       " 'parserClass',\n",
       " 'parser_class',\n",
       " 'prefix',\n",
       " 'preserve_whitespace_tags',\n",
       " 'prettify',\n",
       " 'previous',\n",
       " 'previousGenerator',\n",
       " 'previousSibling',\n",
       " 'previousSiblingGenerator',\n",
       " 'previous_element',\n",
       " 'previous_elements',\n",
       " 'previous_sibling',\n",
       " 'previous_siblings',\n",
       " 'recursiveChildGenerator',\n",
       " 'renderContents',\n",
       " 'replaceWith',\n",
       " 'replaceWithChildren',\n",
       " 'replace_with',\n",
       " 'replace_with_children',\n",
       " 'select',\n",
       " 'select_one',\n",
       " 'setup',\n",
       " 'smooth',\n",
       " 'string',\n",
       " 'strings',\n",
       " 'stripped_strings',\n",
       " 'text',\n",
       " 'unwrap',\n",
       " 'wrap']"
      ]
     },
     "execution_count": 86,
     "metadata": {},
     "output_type": "execute_result"
    }
   ],
   "source": [
    "dev_data.find('ul')"
   ]
  },
  {
   "cell_type": "code",
   "execution_count": 95,
   "id": "d09dd8aa",
   "metadata": {},
   "outputs": [
    {
     "data": {
      "text/plain": [
       "{'data-position': '42',\n",
       " 'id': 'provider-741837',\n",
       " 'data-type': 'Sponsor',\n",
       " 'class': ['provider', 'provider-row', 'sponsor'],\n",
       " 'data-is-list': 'true',\n",
       " 'data-clutch-pid': '741837',\n",
       " 'data-title': 'Tapston'}"
      ]
     },
     "execution_count": 95,
     "metadata": {},
     "output_type": "execute_result"
    }
   ],
   "source": [
    "dev_data.find('ul').findAll('li')[5].attrs"
   ]
  },
  {
   "cell_type": "code",
   "execution_count": 122,
   "id": "2440553c",
   "metadata": {},
   "outputs": [
    {
     "name": "stdout",
     "output_type": "stream",
     "text": [
      "Blue Whale Apps\n",
      "Tapston\n",
      "Small Planet\n",
      "Clarika\n",
      "Softensy\n",
      "hedgehog lab\n",
      "NineTwoThree Venture Studio\n",
      "Zco\n",
      "Mtoag Technologies Pvt LTD.\n",
      "Mutual Mobile\n",
      "Eleviant Tech\n",
      "AppTailors\n",
      "Ajath\n",
      "Moove It\n",
      "Steelkiwi\n",
      "Sapphire Software Solutions\n",
      "Onetree\n",
      "Clover Studio\n",
      "You are launched\n",
      "Origami Studios\n",
      "Enozom Software\n",
      "Magora Systems\n",
      "Futured\n",
      "Launchpad App Development\n",
      "Somnio Software\n",
      "Alphonic Network Solutions\n",
      "GeekyAnts\n",
      "ThinkUp\n",
      "Big Nerd Ranch\n",
      "AppUnite\n",
      "New Line Technologies\n",
      "Calibrate Software\n",
      "SparxIT\n",
      "Apptension\n",
      "Horus\n",
      "SoftwareHut\n",
      "AA+ Flutter Developers | Codigee\n",
      "Heveloon ltd\n",
      "Tooploox\n",
      "Rubikal\n"
     ]
    }
   ],
   "source": [
    "# to get titles\n",
    "for d in dev_data.findAll( 'li', attrs = {'data-is-list':'true'}):\n",
    "    print(d.get('data-title'))"
   ]
  },
  {
   "cell_type": "code",
   "execution_count": 108,
   "id": "1cd45728",
   "metadata": {},
   "outputs": [
    {
     "name": "stdout",
     "output_type": "stream",
     "text": [
      "<li class=\"provider provider-row sponsor\" data-clutch-pid=\"5793\" data-is-list=\"true\" data-position=\"41\" data-title=\"Blue Whale Apps\" data-type=\"Sponsor\" id=\"provider-5793\">\n",
      " <div class=\"row\">\n",
      "  <div class=\"provider-info col-md-10\">\n",
      "   <div class=\"row provider-info--header\">\n",
      "    <div class=\"company col-md-12 prompt-target sponsor\">\n",
      "     <a class=\"company_logotype directory_profile\" data-link_text=\"Profile Logotype\" href=\"/profile/blue-whale-apps\" target=\"_blank\">\n",
      "      <img alt=\"Blue Whale Apps\" property=\"image\" src=\"https://img.shgstatic.com/clutchco-static/image/scale/65x65/s3fs-public/logos/97ca23b5c9c5174e187cb5a1d3ef83d0.png\"/>\n",
      "     </a>\n",
      "     <h3 class=\"company_info\">\n",
      "      <a class=\"company_title directory_profile\" data-link_text=\"Profile Title\" href=\"/profile/blue-whale-apps\" target=\"_blank\">\n",
      "       Blue Whale Apps\n",
      "      </a>\n",
      "     </h3>\n",
      "     <p class=\"company_info__wrap tagline\">\n",
      "      Creating Apps Since the App Store Started\n",
      "     </p>\n",
      "     <div class=\"rating-reviews sg-rating\">\n",
      "      <span class=\"rating sg-rating__number\">\n",
      "       5.0\n",
      "      </span>\n",
      "      <a class=\"reviews-totals-stars sg-rating__stars directory_profile\" data-link_text=\"Profile Stars\" href=\"/profile/blue-whale-apps#reviews\" style=\"--sgStarsRating: 100%;\" target=\"_blank\">\n",
      "      </a>\n",
      "      <a class=\"reviews-link sg-rating__reviews directory_profile\" data-link_text=\"Reviews Count\" href=\"/profile/blue-whale-apps#reviews\" target=\"_blank\">\n",
      "       17 reviews\n",
      "      </a>\n",
      "     </div>\n",
      "     <section class=\"provider-bookmark bookmark-dropdown-target\" data-action=\"add\" data-dropdown-content=\"Add to Shortlist\" data-provider-id=\"5793\">\n",
      "     </section>\n",
      "     <div class=\"company_sponsor\">\n",
      "     </div>\n",
      "    </div>\n",
      "   </div>\n",
      "   <div class=\"row provider-info--content\">\n",
      "    <div class=\"col-md-3 provider-info__details\">\n",
      "     <div class=\"module-list\">\n",
      "      <div class=\"list-item block_tag custom_popover\" data-content=\"&lt;i&gt;Min. project size&lt;/i&gt;\" data-popover-position=\".icon-wrapper\">\n",
      "       <div class=\"icon-wrapper\">\n",
      "        <i class=\"list_icon icon_tag\">\n",
      "        </i>\n",
      "       </div>\n",
      "       <span>\n",
      "        $50,000+\n",
      "       </span>\n",
      "      </div>\n",
      "      <div class=\"list-item custom_popover\" data-content=\"&lt;i&gt;Avg. hourly rate&lt;/i&gt;\" data-popover-position=\".icon-wrapper\">\n",
      "       <div class=\"icon-wrapper\">\n",
      "        <i class=\"list_icon icon_clock\">\n",
      "        </i>\n",
      "       </div>\n",
      "       <span>\n",
      "        $100 - $149 / hr\n",
      "       </span>\n",
      "      </div>\n",
      "      <div class=\"list-item custom_popover\" data-content=\"&lt;i&gt;Employees&lt;/i&gt;\" data-popover-position=\".icon-wrapper\">\n",
      "       <div class=\"icon-wrapper\">\n",
      "        <i class=\"list_icon icon_person\">\n",
      "        </i>\n",
      "       </div>\n",
      "       <span>\n",
      "        10 - 49\n",
      "       </span>\n",
      "      </div>\n",
      "      <div class=\"list-item custom_popover\" data-content=\"&lt;i&gt;Location&lt;/i&gt;\" data-popover-position=\".icon-wrapper\">\n",
      "       <div class=\"icon-wrapper\">\n",
      "        <i class=\"list_icon icon_pin\">\n",
      "        </i>\n",
      "       </div>\n",
      "       <span class=\"locality\">\n",
      "        Herndon, VA\n",
      "       </span>\n",
      "      </div>\n",
      "     </div>\n",
      "    </div>\n",
      "    <div class=\"col-lg-6 provider-info__chart-data\">\n",
      "     <div class=\"directory-graph directory-main-bar\">\n",
      "      <div class=\"graph-title\">\n",
      "       Service Focus\n",
      "      </div>\n",
      "      <div class=\"chartAreaWrapper service-focus-graph\">\n",
      "       <div class=\"chartAreaContainer spm-bar-chart\">\n",
      "        <div class=\"grid custom_popover\" data-content=\"&lt;i&gt;50%&lt;/i&gt;&lt;b&gt;Mobile App Development&lt;/b&gt;\" data-html=\"true\" data-original-title=\"\" data-placement=\"top\" data-toggle=\"popover\" data-trigger=\"hover\" role=\"button\" style=\"width: 50%\" title=\"\">\n",
      "        </div>\n",
      "        <div class=\"grid custom_popover\" data-content=\"&lt;i&gt;25%&lt;/i&gt;&lt;b&gt;Web Development&lt;/b&gt;\" data-html=\"true\" data-original-title=\"\" data-placement=\"top\" data-toggle=\"popover\" data-trigger=\"hover\" role=\"button\" style=\"width: 25%\" title=\"\">\n",
      "        </div>\n",
      "        <div class=\"grid custom_popover\" data-content=\"&lt;i&gt;15%&lt;/i&gt;&lt;b&gt;UX/UI Design&lt;/b&gt;\" data-html=\"true\" data-original-title=\"\" data-placement=\"top\" data-toggle=\"popover\" data-trigger=\"hover\" role=\"button\" style=\"width: 15%\" title=\"\">\n",
      "        </div>\n",
      "        <div class=\"grid custom_popover\" data-content=\"&lt;i&gt;10%&lt;/i&gt;&lt;b&gt;Wearable App Development&lt;/b&gt;\" data-html=\"true\" data-original-title=\"\" data-placement=\"top\" data-toggle=\"popover\" data-trigger=\"hover\" role=\"button\" style=\"width: 10%\" title=\"\">\n",
      "        </div>\n",
      "       </div>\n",
      "      </div>\n",
      "      <div class=\"chart-label hidden-xs\">\n",
      "       <span>\n",
      "        <span>\n",
      "         50%\n",
      "        </span>\n",
      "        Mobile App Development\n",
      "       </span>\n",
      "      </div>\n",
      "      <div class=\"chart-label-carousel visible-xs\">\n",
      "       <div class=\"carousel slide\" data-interval=\"false\" data-ride=\"carousel\" id=\"carouselMobile5793\">\n",
      "        <div class=\"carousel-inner\">\n",
      "         <div class=\"carousel-item active\">\n",
      "          50% Mobile App Development\n",
      "         </div>\n",
      "         <div class=\"carousel-item\">\n",
      "          25% Web Development\n",
      "         </div>\n",
      "         <div class=\"carousel-item\">\n",
      "          15% UX/UI Design\n",
      "         </div>\n",
      "         <div class=\"carousel-item\">\n",
      "          10% Wearable App Development\n",
      "         </div>\n",
      "        </div>\n",
      "        <a class=\"carousel-control-prev left carousel-control\" data-slide=\"prev\" href=\"#carouselMobile5793\" role=\"button\">\n",
      "        </a>\n",
      "        <a class=\"carousel-control-next right carousel-control\" data-slide=\"next\" href=\"#carouselMobile5793\" role=\"button\">\n",
      "        </a>\n",
      "       </div>\n",
      "      </div>\n",
      "     </div>\n",
      "    </div>\n",
      "    <div class=\"col-md-3 provider-info__description\">\n",
      "     <blockquote class=\"blockquote-in-module\">\n",
      "      <p>\n",
      "       \"They take care of us 100%, so their customer service is excellent.\"\n",
      "      </p>\n",
      "     </blockquote>\n",
      "     <ul class=\"module-list small-list\">\n",
      "      <li>\n",
      "       CEO, Personalized Video App Co.\n",
      "       <i class=\"icon-founder\">\n",
      "       </i>\n",
      "      </li>\n",
      "     </ul>\n",
      "    </div>\n",
      "   </div>\n",
      "  </div>\n",
      "  <div class=\"provider-detail col-md-2\">\n",
      "   <ul class=\"nav-right-profile\" data-length=\"9\">\n",
      "    <li class=\"website-link website-link-a\">\n",
      "     <a class=\"website-link__item\" data-link=\"https://r.clutch.co/redirect?from_page=https%3A%2F%2Fclutch.co%2Fdirectory%2Fmobile-application-developers%3Fpage%3D1&amp;pid=5793&amp;position=41&amp;source=directory&amp;u=http%3A%2F%2Fwww.bluewhaleapps.com%2F%3Futm_source%3Dsourcingline%26utm_medium%3Dcpc%26utm_campaign%3DSL\" data-position=\"41\" href=\"http://www.bluewhaleapps.com/?utm_source=sourcingline&amp;utm_medium=cpc&amp;utm_campaign=SL\" rel=\"nofollow\">\n",
      "      <span>\n",
      "       Visit Website\n",
      "      </span>\n",
      "      <span class=\"detail_icon icon_global\">\n",
      "      </span>\n",
      "     </a>\n",
      "    </li>\n",
      "    <li class=\"website-profile\">\n",
      "     <a class=\"directory_profile\" data-link_text=\"Profile Button\" href=\"/profile/blue-whale-apps\" target=\"_blank\">\n",
      "      <span>\n",
      "       View Profile\n",
      "      </span>\n",
      "      <span class=\"detail_icon icon_clutch\">\n",
      "      </span>\n",
      "     </a>\n",
      "    </li>\n",
      "    <li class=\"website-contact\">\n",
      "     <a class=\"provider-detail-contact\" href=\"https://clutch.co/profile/blue-whale-apps/contact?next=https%3A%2F%2Fclutch.co%2Fdirectory%2Fmobile-application-developers%3Fpage%3D1\">\n",
      "      <span class=\"detail_icon icon_contact\">\n",
      "      </span>\n",
      "     </a>\n",
      "    </li>\n",
      "   </ul>\n",
      "  </div>\n",
      " </div>\n",
      "</li>\n",
      "\n"
     ]
    }
   ],
   "source": [
    "print(dev_data.find('ul').find('li').prettify())"
   ]
  },
  {
   "cell_type": "code",
   "execution_count": 113,
   "id": "e2e624c3",
   "metadata": {},
   "outputs": [
    {
     "data": {
      "text/plain": [
       "'\\n                                5.0\\n                            '"
      ]
     },
     "execution_count": 113,
     "metadata": {},
     "output_type": "execute_result"
    }
   ],
   "source": [
    "# rating\n",
    "dev_data.find('ul').find('li').find('span', attrs = {'class':'rating sg-rating__number'}).text"
   ]
  },
  {
   "cell_type": "code",
   "execution_count": 201,
   "id": "90c5f1a0",
   "metadata": {
    "scrolled": false
   },
   "outputs": [
    {
     "name": "stdout",
     "output_type": "stream",
     "text": [
      "Min. project size :  $50,000+\n",
      "Employees :  10 - 49\n"
     ]
    }
   ],
   "source": [
    "for d in dev_data.findAll( 'li', attrs = {'data-is-list':'true'}):\n",
    "#     print(d.get('data-position'))\n",
    "#     print(\"Title : \", d.get('data-title'))\n",
    "#     print(\"Rating : \", float(d.find('span', attrs = {'class':'rating sg-rating__number'}).text))\n",
    "#     print(\"reviews : \" ,d.find('a' ,attrs = {'data-link_text':\"Reviews Count\"}).text.replace('\\n','').replace('\\r', '').replace('\\t', '').strip(' '))\n",
    "#     print(\"website : \" , d.find('a', attrs = {'class':'website-link__item'}).get('href'))\n",
    "#     print(\"Location : \", d.find('span' , attrs = {'class':'locality'}).text)\n",
    "#     print(re.sub(r'<.*?>', '',d.findAll('div', attrs = {'class' : 'list-item custom_popover'})[0].get('data-content')) + \" : \" ,\n",
    "#           d.findAll('div', attrs = {'class' : 'list-item custom_popover'})[0].find('span').text.strip(' '))\n",
    "    \n",
    "    print(re.sub(r'<.*?>', '', d.find('div',attrs = {'class' : 'list-item block_tag custom_popover'}).get('data-content'))+ \" : \",\n",
    "          d.find('div',attrs = {'class' : 'list-item block_tag custom_popover'}).find('span').text)\n",
    "    \n",
    "    print(re.sub(r'<.*?>', '',d.findAll('div', attrs = {'class' : 'list-item custom_popover'})[1].get('data-content')) + \" : \" ,\n",
    "          d.findAll('div' , attrs = {'class':'list-item custom_popover'})[1].find('span').text)\n",
    "    break\n",
    "    "
   ]
  },
  {
   "cell_type": "code",
   "execution_count": 176,
   "id": "be1f5173",
   "metadata": {},
   "outputs": [
    {
     "data": {
      "text/plain": [
       "<div class=\"list-item custom_popover\" data-content=\"&lt;i&gt;Avg. hourly rate&lt;/i&gt;\" data-popover-position=\".icon-wrapper\">\n",
       "<div class=\"icon-wrapper\">\n",
       "<i class=\"list_icon icon_clock\"></i>\n",
       "</div>\n",
       "<span>$100 - $149 / hr</span>\n",
       "</div>"
      ]
     },
     "execution_count": 176,
     "metadata": {},
     "output_type": "execute_result"
    }
   ],
   "source": [
    "d.find('div', attrs = {'class' : 'list-item custom_popover'})"
   ]
  },
  {
   "cell_type": "code",
   "execution_count": 148,
   "id": "2dd48934",
   "metadata": {},
   "outputs": [
    {
     "data": {
      "text/plain": [
       "'17 reviews'"
      ]
     },
     "execution_count": 148,
     "metadata": {},
     "output_type": "execute_result"
    }
   ],
   "source": [
    "d.find('a' ,attrs = {'data-link_text':\"Reviews Count\"}).text.replace('\\n','').replace('\\r', '').strip(' ')"
   ]
  },
  {
   "cell_type": "code",
   "execution_count": 145,
   "id": "be05d9cf",
   "metadata": {},
   "outputs": [
    {
     "data": {
      "text/plain": [
       "' \\n  \\n \\t \\\\'"
      ]
     },
     "execution_count": 145,
     "metadata": {},
     "output_type": "execute_result"
    }
   ],
   "source": []
  },
  {
   "cell_type": "code",
   "execution_count": null,
   "id": "8ce2973e",
   "metadata": {},
   "outputs": [],
   "source": []
  }
 ],
 "metadata": {
  "kernelspec": {
   "display_name": "Python 3 (ipykernel)",
   "language": "python",
   "name": "python3"
  },
  "language_info": {
   "codemirror_mode": {
    "name": "ipython",
    "version": 3
   },
   "file_extension": ".py",
   "mimetype": "text/x-python",
   "name": "python",
   "nbconvert_exporter": "python",
   "pygments_lexer": "ipython3",
   "version": "3.10.2"
  }
 },
 "nbformat": 4,
 "nbformat_minor": 5
}
