{
 "cells": [
  {
   "cell_type": "code",
   "execution_count": 1,
   "id": "c92b0e25",
   "metadata": {},
   "outputs": [],
   "source": [
    "from selenium import webdriver\n",
    "from selenium.webdriver.common.action_chains import ActionChains\n",
    "from bs4 import BeautifulSoup\n",
    "import os\n",
    "from datetime import datetime\n",
    "from time import sleep"
   ]
  },
  {
   "cell_type": "code",
   "execution_count": 2,
   "id": "2183d8df",
   "metadata": {},
   "outputs": [],
   "source": [
    "url = 'https://clutch.co/'"
   ]
  },
  {
   "cell_type": "code",
   "execution_count": 3,
   "id": "ca35e7a1",
   "metadata": {},
   "outputs": [],
   "source": [
    "options = webdriver.ChromeOptions()"
   ]
  },
  {
   "cell_type": "code",
   "execution_count": 4,
   "id": "b3a09d1c",
   "metadata": {},
   "outputs": [],
   "source": [
    "download_path = os.getcwd()"
   ]
  },
  {
   "cell_type": "code",
   "execution_count": 5,
   "id": "f7242d9c",
   "metadata": {},
   "outputs": [],
   "source": [
    "prefs = {'download.default_directory':download_path}"
   ]
  },
  {
   "cell_type": "code",
   "execution_count": 6,
   "id": "5c750381",
   "metadata": {},
   "outputs": [],
   "source": [
    "options.add_experimental_option('prefs', prefs)"
   ]
  },
  {
   "cell_type": "code",
   "execution_count": 7,
   "id": "eb76cdea",
   "metadata": {},
   "outputs": [],
   "source": [
    "ChromeDriverPath = r'chromedriver.exe'"
   ]
  },
  {
   "cell_type": "code",
   "execution_count": 8,
   "id": "b165b5a3",
   "metadata": {},
   "outputs": [
    {
     "name": "stderr",
     "output_type": "stream",
     "text": [
      "C:\\Users\\AREKUTI\\AppData\\Local\\Temp\\ipykernel_13072\\220973017.py:1: DeprecationWarning: executable_path has been deprecated, please pass in a Service object\n",
      "  driver = webdriver.Chrome(executable_path = ChromeDriverPath , options=options)\n"
     ]
    }
   ],
   "source": [
    "driver = webdriver.Chrome(executable_path = ChromeDriverPath , options=options)"
   ]
  },
  {
   "cell_type": "code",
   "execution_count": 9,
   "id": "f7de81cd",
   "metadata": {},
   "outputs": [],
   "source": [
    "driver.maximize_window()"
   ]
  },
  {
   "cell_type": "code",
   "execution_count": 10,
   "id": "32d5cfe0",
   "metadata": {},
   "outputs": [],
   "source": [
    "webActions = ActionChains(driver)"
   ]
  },
  {
   "cell_type": "code",
   "execution_count": 11,
   "id": "6dd72311",
   "metadata": {},
   "outputs": [],
   "source": [
    "driver.set_page_load_timeout(200000)\n",
    "driver.set_script_timeout(20000)"
   ]
  },
  {
   "cell_type": "code",
   "execution_count": 12,
   "id": "5cbcf4ba",
   "metadata": {},
   "outputs": [],
   "source": [
    "driver.get(url)"
   ]
  },
  {
   "cell_type": "code",
   "execution_count": 13,
   "id": "8aa9bd96",
   "metadata": {},
   "outputs": [],
   "source": [
    "list_data = driver.find_element(\"xpath\", '/html/body/main/article/section[2]/div/div[2]')\n"
   ]
  },
  {
   "cell_type": "code",
   "execution_count": 14,
   "id": "ddc5d200",
   "metadata": {
    "scrolled": true
   },
   "outputs": [],
   "source": [
    "main_div = driver.execute_script(\"return arguments[0].innerHTML;\",list_data)"
   ]
  },
  {
   "cell_type": "code",
   "execution_count": 15,
   "id": "8c573e79",
   "metadata": {},
   "outputs": [],
   "source": [
    "soup = BeautifulSoup(main_div)"
   ]
  },
  {
   "cell_type": "code",
   "execution_count": 16,
   "id": "d86f2947",
   "metadata": {},
   "outputs": [
    {
     "name": "stdout",
     "output_type": "stream",
     "text": [
      "<html>\n",
      " <body>\n",
      "  <div class=\"sitemap-item development\">\n",
      "   <button aria-controls=\"second_menu\" aria-expanded=\"false\" class=\"sitemap-button collapsed\" data-target=\"#sitemap_development\" data-toggle=\"collapse\" type=\"button\">\n",
      "    Development\n",
      "   </button>\n",
      "   <nav class=\"sitemap-nav collapse\" id=\"sitemap_development\">\n",
      "    <a class=\"sitemap-nav__item\" href=\"/directory/mobile-application-developers\">\n",
      "     Mobile\tApp Development\n",
      "    </a>\n",
      "    <a class=\"sitemap-nav__item\" href=\"/developers\">\n",
      "     Software Development\n",
      "    </a>\n",
      "    <a class=\"sitemap-nav__item\" href=\"/web-developers\">\n",
      "     Web Development\n",
      "    </a>\n",
      "    <a class=\"sitemap-nav__item\" href=\"/developers/virtual-reality\">\n",
      "     AR/VR\n",
      "    </a>\n",
      "    <a class=\"sitemap-nav__item\" href=\"/developers/artificial-intelligence\">\n",
      "     Artificial Intelligence\n",
      "    </a>\n",
      "    <a class=\"sitemap-nav__item\" href=\"/developers/blockchain\">\n",
      "     Blockchain\n",
      "    </a>\n",
      "   </nav>\n",
      "  </div>\n",
      "  <div class=\"sitemap-item design\">\n",
      "   <button aria-controls=\"second_menu\" aria-expanded=\"false\" class=\"sitemap-button collapsed\" data-target=\"#sitemap_design\" data-toggle=\"collapse\" type=\"button\">\n",
      "    Design &amp; Production\n",
      "   </button>\n",
      "   <nav class=\"sitemap-nav collapse\" id=\"sitemap_design\">\n",
      "    <a class=\"sitemap-nav__item\" href=\"/web-designers\">\n",
      "     Web Design\n",
      "    </a>\n",
      "    <a class=\"sitemap-nav__item\" href=\"/agencies/ui-ux\">\n",
      "     User Experience Design\n",
      "    </a>\n",
      "    <a class=\"sitemap-nav__item\" href=\"/agencies/logo-designers\">\n",
      "     Logo Design\n",
      "    </a>\n",
      "    <a class=\"sitemap-nav__item\" href=\"/agencies/graphic-designers\">\n",
      "     Graphic Design\n",
      "    </a>\n",
      "    <a class=\"sitemap-nav__item\" href=\"/agencies/design\">\n",
      "     Design\n",
      "    </a>\n",
      "    <a class=\"sitemap-nav__item\" href=\"/agencies/digital-design\">\n",
      "     Digital Design\n",
      "    </a>\n",
      "   </nav>\n",
      "  </div>\n",
      "  <div class=\"sitemap-item marketing\">\n",
      "   <button aria-controls=\"second_menu\" aria-expanded=\"false\" class=\"sitemap-button collapsed\" data-target=\"#sitemap_marketing\" data-toggle=\"collapse\" type=\"button\">\n",
      "    Marketing\n",
      "   </button>\n",
      "   <nav class=\"sitemap-nav collapse\" id=\"sitemap_marketing\">\n",
      "    <a class=\"sitemap-nav__item\" href=\"/agencies/digital-marketing\">\n",
      "     Digital Marketing\n",
      "    </a>\n",
      "    <a class=\"sitemap-nav__item\" href=\"/seo-firms\">\n",
      "     SEO\n",
      "    </a>\n",
      "    <a class=\"sitemap-nav__item\" href=\"/agencies/social-media-marketing\">\n",
      "     Social Media Marketing\n",
      "    </a>\n",
      "    <a class=\"sitemap-nav__item\" href=\"/agencies/app-marketing\">\n",
      "     Mobile Marketing\n",
      "    </a>\n",
      "    <a class=\"sitemap-nav__item\" href=\"/agencies/content-marketing\">\n",
      "     Content Marketing\n",
      "    </a>\n",
      "    <a class=\"sitemap-nav__item\" href=\"/agencies/sem\">\n",
      "     Search Marketing\n",
      "    </a>\n",
      "   </nav>\n",
      "  </div>\n",
      "  <div class=\"sitemap-item advertising\">\n",
      "   <button aria-controls=\"second_menu\" aria-expanded=\"false\" class=\"sitemap-button collapsed\" data-target=\"#sitemap_advertising\" data-toggle=\"collapse\" type=\"button\">\n",
      "    Advertising\n",
      "   </button>\n",
      "   <nav class=\"sitemap-nav collapse\" id=\"sitemap_advertising\">\n",
      "    <a class=\"sitemap-nav__item\" href=\"/agencies\">\n",
      "     Advertising\n",
      "    </a>\n",
      "    <a class=\"sitemap-nav__item\" href=\"/agencies/branding\">\n",
      "     Branding\n",
      "    </a>\n",
      "    <a class=\"sitemap-nav__item\" href=\"/agencies/creative\">\n",
      "     Creative\n",
      "    </a>\n",
      "    <a class=\"sitemap-nav__item\" href=\"/agencies/video-production\">\n",
      "     Video Production\n",
      "    </a>\n",
      "    <a class=\"sitemap-nav__item\" href=\"/pr-firms\">\n",
      "     Public Relations\n",
      "    </a>\n",
      "    <a class=\"sitemap-nav__item\" href=\"/agencies/media-buying\">\n",
      "     Media Planning &amp; Buying\n",
      "    </a>\n",
      "   </nav>\n",
      "  </div>\n",
      "  <div class=\"sitemap-item business\">\n",
      "   <button aria-controls=\"second_menu\" aria-expanded=\"false\" class=\"sitemap-button collapsed\" data-target=\"#sitemap_business\" data-toggle=\"collapse\" type=\"button\">\n",
      "    Business Services\n",
      "   </button>\n",
      "   <nav class=\"sitemap-nav collapse\" id=\"sitemap_business\">\n",
      "    <a class=\"sitemap-nav__item\" href=\"/call-centers\">\n",
      "     Call Centers\n",
      "    </a>\n",
      "    <a class=\"sitemap-nav__item\" href=\"/bpo\">\n",
      "     BPO\n",
      "    </a>\n",
      "    <a class=\"sitemap-nav__item\" href=\"/accounting\">\n",
      "     Accounting\n",
      "    </a>\n",
      "    <a class=\"sitemap-nav__item\" href=\"/real-estate\">\n",
      "     Commercial Real Estate\n",
      "    </a>\n",
      "    <a class=\"sitemap-nav__item\" href=\"/hr\">\n",
      "     HR Services\n",
      "    </a>\n",
      "    <a class=\"sitemap-nav__item\" href=\"/consulting\">\n",
      "     Consulting\n",
      "    </a>\n",
      "   </nav>\n",
      "  </div>\n",
      "  <div class=\"sitemap-item services\">\n",
      "   <button aria-controls=\"second_menu\" aria-expanded=\"false\" class=\"sitemap-button collapsed\" data-target=\"#sitemap_services\" data-toggle=\"collapse\" type=\"button\">\n",
      "    IT Services\n",
      "   </button>\n",
      "   <nav class=\"sitemap-nav collapse\" id=\"sitemap_services\">\n",
      "    <a class=\"sitemap-nav__item\" href=\"/it-services\">\n",
      "     IT Services\n",
      "    </a>\n",
      "    <a class=\"sitemap-nav__item\" href=\"/it-services/cybersecurity\">\n",
      "     Cybersecurity\n",
      "    </a>\n",
      "    <a class=\"sitemap-nav__item\" href=\"/it-services/analytics\">\n",
      "     Data Analytics\n",
      "    </a>\n",
      "    <a class=\"sitemap-nav__item\" href=\"/it-services/msp\">\n",
      "     Managed IT Services\n",
      "    </a>\n",
      "    <a class=\"sitemap-nav__item\" href=\"/it-services/cloud\">\n",
      "     Cloud Consulting\n",
      "    </a>\n",
      "    <a class=\"sitemap-nav__item\" href=\"/it-services/staff-augmentation\">\n",
      "     Staff Augmentation\n",
      "    </a>\n",
      "   </nav>\n",
      "  </div>\n",
      " </body>\n",
      "</html>\n"
     ]
    }
   ],
   "source": [
    "print(soup.prettify())"
   ]
  },
  {
   "cell_type": "code",
   "execution_count": 17,
   "id": "2669299a",
   "metadata": {},
   "outputs": [
    {
     "data": {
      "text/plain": [
       "'Mobile\\tApp Development'"
      ]
     },
     "execution_count": 17,
     "metadata": {},
     "output_type": "execute_result"
    }
   ],
   "source": [
    "soup.find('div').find('nav').find('a').text\n",
    "# 1  div - to get all domains -  usefind all\n",
    "# 2  nav - to access each domain data \n",
    "# 3  a - to get link of each domain data"
   ]
  },
  {
   "cell_type": "code",
   "execution_count": 22,
   "id": "177a6482",
   "metadata": {},
   "outputs": [],
   "source": [
    "# dir(soup.find('div').find('nav'))"
   ]
  },
  {
   "cell_type": "code",
   "execution_count": 19,
   "id": "de9e6078",
   "metadata": {},
   "outputs": [],
   "source": [
    "# dir(soup.find('div').find('nav').find('a')"
   ]
  },
  {
   "cell_type": "code",
   "execution_count": 20,
   "id": "95cd66a8",
   "metadata": {},
   "outputs": [
    {
     "data": {
      "text/plain": [
       "'https://clutch.co//directory/mobile-application-developers'"
      ]
     },
     "execution_count": 20,
     "metadata": {},
     "output_type": "execute_result"
    }
   ],
   "source": [
    "url+soup.find('div').find('nav').find('a').get('href')"
   ]
  },
  {
   "cell_type": "code",
   "execution_count": 21,
   "id": "233d8766",
   "metadata": {},
   "outputs": [],
   "source": [
    "sleep(2)\n",
    "driver.get(url+soup.find('div').find('nav').find('a').get('href'))"
   ]
  },
  {
   "cell_type": "code",
   "execution_count": null,
   "id": "8ca639bc",
   "metadata": {},
   "outputs": [],
   "source": []
  }
 ],
 "metadata": {
  "kernelspec": {
   "display_name": "Python 3 (ipykernel)",
   "language": "python",
   "name": "python3"
  },
  "language_info": {
   "codemirror_mode": {
    "name": "ipython",
    "version": 3
   },
   "file_extension": ".py",
   "mimetype": "text/x-python",
   "name": "python",
   "nbconvert_exporter": "python",
   "pygments_lexer": "ipython3",
   "version": "3.10.2"
  }
 },
 "nbformat": 4,
 "nbformat_minor": 5
}
